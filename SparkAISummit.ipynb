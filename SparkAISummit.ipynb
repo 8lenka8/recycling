{
 "cells": [
  {
   "cell_type": "code",
   "execution_count": 4,
   "metadata": {},
   "outputs": [],
   "source": [
    "# pyspark --packages graphframes:graphframes:0.8.0-spark3.0-s_2.12\n",
    "\n",
    "\n",
    "import pyspark\n",
    "from pyspark.sql.types import StructType, StructField, FloatType, BooleanType, DoubleType, IntegerType, StringType\n",
    "\n",
    "from pyspark import SQLContext\n",
    " \n",
    "conf = pyspark.SparkConf() \n",
    "sc = pyspark.SparkContext.getOrCreate(conf=conf)\n",
    "sqlcontext = SQLContext(sc)\n",
    "\n",
    "PATH_TO_CSV = \"/home/elena/Dropbox/Plan8/waste/datasets/waste_graph2.csv\""
   ]
  },
  {
   "cell_type": "code",
   "execution_count": 2,
   "metadata": {},
   "outputs": [],
   "source": [
    "from graphframes import *"
   ]
  },
  {
   "cell_type": "code",
   "execution_count": 7,
   "metadata": {},
   "outputs": [],
   "source": [
    "df = spark.read.csv(\n",
    "    PATH_TO_CSV\n",
    "    , header=True\n",
    "    , mode=\"DROPMALFORMED\"\n",
    "    , inferSchema='true'\n",
    "    #, schema=schema\n",
    ")"
   ]
  },
  {
   "cell_type": "code",
   "execution_count": 8,
   "metadata": {},
   "outputs": [
    {
     "name": "stdout",
     "output_type": "stream",
     "text": [
      "+-------+-----------+---------+------------------------+--------------------+--------------------+--------------------+--------------------+--------------+-----------------+--------------------+-----------------+-------------------+----------+--------------------+-------------+------+--------------------+--------------------+--------------------+------+\n",
      "|Quarter|AuthorityId|Authority|WasteManagementAuthority|        FacilityName|Location_Coordinates|  FacilityAddressGeo|        FacilityType|FacilityTypeId|WasteStreamTypeId|     WasteStreamType|OutputProcessType|OutputProcessTypeId|MaterialId|            Material|MaterialGroup|Tonnes|     sender_facility| processing_facility| FacilityIdGenerated|rownum|\n",
      "+-------+-----------+---------+------------------------+--------------------+--------------------+--------------------+--------------------+--------------+-----------------+--------------------+-----------------+-------------------+----------+--------------------+-------------+------+--------------------+--------------------+--------------------+------+\n",
      "|    152|         19|Ealing LB|    West London Waste...|  Biogen ( U K ) Ltd|[52.1955677, -0.5...|Milton Ernest Par...|Anaerobic or Aero...|            11|                3|          Food waste|          Unknown|                0.0|        43|     Waste food only|      Organic|381.67|30087_11_ChIJbzCG...|30087_11_ChIJbzCG...|30087_11_ChIJbzCG...|     0|\n",
      "|    152|         19|Ealing LB|    West London Waste...|  Biogen ( U K ) Ltd|[52.1955677, -0.5...|Milton Ernest Par...|Anaerobic or Aero...|            11|                3|          Food waste|          Unknown|                0.0|        43|     Waste food only|      Organic| 377.4|30087_11_ChIJbzCG...|30087_11_ChIJbzCG...|30087_11_ChIJbzCG...|     1|\n",
      "|    152|         19|Ealing LB|    West London Waste...|  Biogen ( U K ) Ltd|[52.1955677, -0.5...|Milton Ernest Par...|Anaerobic or Aero...|            11|                3|          Food waste|          Unknown|                0.0|        43|     Waste food only|      Organic|356.07|30087_11_ChIJbzCG...|30087_11_ChIJbzCG...|30087_11_ChIJbzCG...|     2|\n",
      "|    152|         19|Ealing LB|    West London Waste...|Reviva Composting...|[51.6378049, -0.3...|Elstree Hill S, E...|Windrow or other ...|            13|                4|         Green waste|          Unknown|                0.0|        42|Green garden wast...|      Organic|823.16|27859_13_ChIJIdmw...|27859_13_ChIJIdmw...|27859_13_ChIJIdmw...|     3|\n",
      "|    152|         19|Ealing LB|    West London Waste...|Reviva Composting...|[51.6378049, -0.3...|Elstree Hill S, E...|Windrow or other ...|            13|                4|         Green waste|          Unknown|                0.0|        42|Green garden wast...|      Organic|621.56|27859_13_ChIJIdmw...|27859_13_ChIJIdmw...|27859_13_ChIJIdmw...|     4|\n",
      "|    152|         19|Ealing LB|    West London Waste...|Reviva Composting...|[51.6378049, -0.3...|Elstree Hill S, E...|Windrow or other ...|            13|                4|         Green waste|          Unknown|                0.0|        42|Green garden wast...|      Organic|920.45|27859_13_ChIJIdmw...|27859_13_ChIJIdmw...|27859_13_ChIJIdmw...|     5|\n",
      "|    152|         19|Ealing LB|    West London Waste...|Environmental Tyr...|[33.2704888, 35.2...|       Tyre, Lebanon|Reprocessor - rec...|            16|                1|Source segregated...|          Unknown|                0.0|        56|         Mixed tyres|        Tyres|  0.08|3126_16_ChIJlV2RL...|3126_16_ChIJlV2RL...|3126_16_ChIJlV2RL...|     6|\n",
      "|    152|         19|Ealing LB|    West London Waste...| G & P Batteries Ltd|[52.5803038, -2.0...|Crescent Works In...|Reprocessor - rec...|            16|                1|Source segregated...|          Unknown|                0.0|        28|Automotive batteries|    Batteries|  2.47|3182_16_ChIJ08Ezb...|3182_16_ChIJ08Ezb...|3182_16_ChIJ08Ezb...|     7|\n",
      "|    152|         19|Ealing LB|    West London Waste...| G & P Batteries Ltd|[52.5803038, -2.0...|Crescent Works In...|Reprocessor - rec...|            16|                1|Source segregated...|          Unknown|                0.0|        28|Automotive batteries|    Batteries|  0.27|3182_16_ChIJ08Ezb...|3182_16_ChIJ08Ezb...|3182_16_ChIJ08Ezb...|     8|\n",
      "|    152|         19|Ealing LB|    West London Waste...| G & P Batteries Ltd|[52.5803038, -2.0...|Crescent Works In...|Reprocessor - rec...|            16|                1|Source segregated...|          Unknown|                0.0|        28|Automotive batteries|    Batteries|  0.27|3182_16_ChIJ08Ezb...|3182_16_ChIJ08Ezb...|3182_16_ChIJ08Ezb...|     9|\n",
      "|    152|         19|Ealing LB|    West London Waste...|        Other/Exempt|[52.9621724999999...|Barkston, Grantha...|Reprocessor - rec...|            16|                1|Source segregated...|          Unknown|                0.0|        77|             Carpets|     Textiles| 58.42|7932_16_ChIJ-SQgJ...|7932_16_ChIJ-SQgJ...|7932_16_ChIJ-SQgJ...|    10|\n",
      "|    152|         19|Ealing LB|    West London Waste...|        Other/Exempt|[52.9621724999999...|Barkston, Grantha...|Reprocessor - rec...|            16|                1|Source segregated...|          Unknown|                0.0|        77|             Carpets|     Textiles| 55.78|7932_16_ChIJ-SQgJ...|7932_16_ChIJ-SQgJ...|7932_16_ChIJ-SQgJ...|    11|\n",
      "|    152|         19|Ealing LB|    West London Waste...|        Other/Exempt|[52.9621724999999...|Barkston, Grantha...|Reprocessor - rec...|            16|                1|Source segregated...|          Unknown|                0.0|        77|             Carpets|     Textiles| 50.57|7932_16_ChIJ-SQgJ...|7932_16_ChIJ-SQgJ...|7932_16_ChIJ-SQgJ...|    12|\n",
      "|    152|         19|Ealing LB|    West London Waste...|        Other/Exempt|[51.5208135, 0.00...|Cody Rd, Canning ...|Reprocessor - rec...|            16|                1|Source segregated...|          Unknown|                0.0|         7|               Paper| Paper & Card| 443.0|7932_16_EiFDb2R5I...|7932_16_EiFDb2R5I...|7932_16_EiFDb2R5I...|    13|\n",
      "|    152|         19|Ealing LB|    West London Waste...|        Other/Exempt|[51.5208135, 0.00...|Cody Rd, Canning ...|Reprocessor - rec...|            16|                1|Source segregated...|          Unknown|                0.0|         7|               Paper| Paper & Card|417.49|7932_16_EiFDb2R5I...|7932_16_EiFDb2R5I...|7932_16_EiFDb2R5I...|    14|\n",
      "|    152|         19|Ealing LB|    West London Waste...|        Other/Exempt|[51.5208135, 0.00...|Cody Rd, Canning ...|Reprocessor - rec...|            16|                1|Source segregated...|          Unknown|                0.0|         7|               Paper| Paper & Card|424.43|7932_16_EiFDb2R5I...|7932_16_EiFDb2R5I...|7932_16_EiFDb2R5I...|    15|\n",
      "|    152|         19|Ealing LB|    West London Waste...|        Other/Exempt|[51.485202, -0.04...|Deptford Recyclin...|Reprocessor - rec...|            16|                1|Source segregated...|          Unknown|                0.0|        65|          Mattresses|        Bulky| 21.13|7932_16_ChIJcTi0j...|7932_16_ChIJcTi0j...|7932_16_ChIJcTi0j...|    16|\n",
      "|    152|         19|Ealing LB|    West London Waste...|        Other/Exempt|[51.485202, -0.04...|Deptford Recyclin...|Reprocessor - rec...|            16|                1|Source segregated...|          Unknown|                0.0|        65|          Mattresses|        Bulky|  27.6|7932_16_ChIJcTi0j...|7932_16_ChIJcTi0j...|7932_16_ChIJcTi0j...|    17|\n",
      "|    152|         19|Ealing LB|    West London Waste...|        Other/Exempt|[51.485202, -0.04...|Deptford Recyclin...|Reprocessor - rec...|            16|                1|Source segregated...|          Unknown|                0.0|        65|          Mattresses|        Bulky| 31.42|7932_16_ChIJcTi0j...|7932_16_ChIJcTi0j...|7932_16_ChIJcTi0j...|    18|\n",
      "|    152|         19|Ealing LB|    West London Waste...|        Other/Exempt|[51.202538, -0.15...|16 Perrywood Busi...|Reprocessor - rec...|            16|                1|Source segregated...|          Unknown|                0.0|        15| Textiles & footwear|     Textiles|  1.75|7932_16_ChIJ1YmLc...|7932_16_ChIJ1YmLc...|7932_16_ChIJ1YmLc...|    19|\n",
      "+-------+-----------+---------+------------------------+--------------------+--------------------+--------------------+--------------------+--------------+-----------------+--------------------+-----------------+-------------------+----------+--------------------+-------------+------+--------------------+--------------------+--------------------+------+\n",
      "only showing top 20 rows\n",
      "\n"
     ]
    }
   ],
   "source": [
    "df.show()"
   ]
  },
  {
   "cell_type": "code",
   "execution_count": 9,
   "metadata": {},
   "outputs": [
    {
     "name": "stdout",
     "output_type": "stream",
     "text": [
      "+--------------------+------------------+\n",
      "|           Authority|       sum(Tonnes)|\n",
      "+--------------------+------------------+\n",
      "|Blaby District Co...|13834.729000000001|\n",
      "|  Derby City Council|141539.87999999995|\n",
      "|Worthing Borough ...|24212.139000000003|\n",
      "|Winchester City C...|17380.190000000006|\n",
      "|North Tyneside Co...|111515.06000000003|\n",
      "|        Redbridge LB|         32254.627|\n",
      "|        Tameside MBC|          28272.15|\n",
      "|    Thurrock Council|         95306.426|\n",
      "|West Lancashire B...|19291.555999999997|\n",
      "|Forest Heath Dist...|          8698.696|\n",
      "|           Wigan MBC|202062.91000000003|\n",
      "|Richmondshire Dis...| 5797.650000000001|\n",
      "|           Ealing LB|          46869.69|\n",
      "|Central Bedfordshire|197675.22999999995|\n",
      "|          Hackney LB| 45057.87999999999|\n",
      "|Fareham Borough C...|16010.160999999998|\n",
      "|Cherwell District...|28857.510000000002|\n",
      "|Cotswold District...|21598.385000000002|\n",
      "|North Norfolk Dis...|22054.597999999994|\n",
      "|          Shropshire|184798.08799999996|\n",
      "+--------------------+------------------+\n",
      "only showing top 20 rows\n",
      "\n"
     ]
    }
   ],
   "source": [
    "test = df.filter( (df.Quarter >= 181) & (df.Quarter < 191)) \\\n",
    "  .groupBy(\"Authority\") \\\n",
    "  .agg({\"Tonnes\": \"sum\"})\n",
    "test.show()"
   ]
  },
  {
   "cell_type": "code",
   "execution_count": null,
   "metadata": {},
   "outputs": [],
   "source": []
  }
 ],
 "metadata": {
  "kernelspec": {
   "display_name": "Python 3",
   "language": "python",
   "name": "python3"
  },
  "language_info": {
   "codemirror_mode": {
    "name": "ipython",
    "version": 3
   },
   "file_extension": ".py",
   "mimetype": "text/x-python",
   "name": "python",
   "nbconvert_exporter": "python",
   "pygments_lexer": "ipython3",
   "version": "3.6.5"
  }
 },
 "nbformat": 4,
 "nbformat_minor": 2
}
